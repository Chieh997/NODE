{
 "cells": [
  {
   "cell_type": "markdown",
   "metadata": {},
   "source": [
    "# Image Classification: MNIST\n",
    "\n",
    "Models:\n",
    "+ [Vanilla NODE](#NODE)\n",
    "+ [Aug.NODE](#ANODE)\n",
    "+ [Input-Layer](#ILNODE)\n",
    "+ [2nd-Ordered](#2NODE)"
   ]
  },
  {
   "cell_type": "code",
   "execution_count": 1,
   "metadata": {},
   "outputs": [],
   "source": [
    "from torchdyn.models import *; from torchdyn import *\n",
    "from torchdyn.nn import Augmenter\n",
    "\n",
    "import torch\n",
    "import torch.nn as nn\n",
    "\n",
    "import pytorch_lightning as pl\n",
    "from pytorch_lightning.loggers import TensorBoardLogger\n",
    "# from pytorch_lightning.callbacks import Callback, ModelCheckpoint\n",
    "\n",
    "from utils import Learner, get_MNIST_dloaders, MetricTracker"
   ]
  },
  {
   "cell_type": "markdown",
   "metadata": {},
   "source": [
    "## Initialization"
   ]
  },
  {
   "cell_type": "code",
   "execution_count": 2,
   "metadata": {},
   "outputs": [],
   "source": [
    "# quick run for automated notebook validation\n",
    "dry_run = False"
   ]
  },
  {
   "cell_type": "code",
   "execution_count": 3,
   "metadata": {},
   "outputs": [
    {
     "name": "stdout",
     "output_type": "stream",
     "text": [
      "GPU State: cuda:0\n"
     ]
    }
   ],
   "source": [
    "device = torch.device(\"cuda:0\" if torch.cuda.is_available() else \"cpu\")\n",
    "accelerator = 'gpu' if torch.cuda.is_available() else 'cpu'\n",
    "print('GPU State:', device)"
   ]
  },
  {
   "cell_type": "markdown",
   "metadata": {},
   "source": [
    "## Data Loading"
   ]
  },
  {
   "cell_type": "code",
   "execution_count": 4,
   "metadata": {},
   "outputs": [],
   "source": [
    "epoch = 20\n",
    "path_to_data='./data/mnist_data'\n",
    "\n",
    "trainloader, testloader = get_MNIST_dloaders(batch_size=64, size=28, path=path_to_data, download=False, num_workers=8)"
   ]
  },
  {
   "cell_type": "markdown",
   "metadata": {},
   "source": [
    "## Model Dimension Check"
   ]
  },
  {
   "cell_type": "code",
   "execution_count": 5,
   "metadata": {},
   "outputs": [],
   "source": [
    "# dim = 32\n",
    "# class Model(nn.Module):\n",
    "#   def __init__(self):\n",
    "#     super(Model, self).__init__()\n",
    "#     self.net = nn.Sequential(\n",
    "#         # nn.GroupNorm(1,1)\n",
    "#         ## input data = (64,1,28,28)\n",
    "#         # nn.Conv2d(1 , dim, 3, padding=1, bias=False),\n",
    "#         Augmenter(1,0),\n",
    "#         Augmenter(1,0),\n",
    "#         # # --- NODE\n",
    "#         # nn.GroupNorm(dim, dim),\n",
    "#         nn.Conv2d(1, dim, 3, padding=1, bias=False),\n",
    "#         nn.Softplus(),                   \n",
    "#         nn.Conv2d(dim, dim, 3, padding=1, bias=False),\n",
    "#         nn.Softplus(), \n",
    "#         nn.GroupNorm(dim, dim),\n",
    "#         nn.Conv2d(dim, 1, 1),\n",
    "#         # # # ---\n",
    "#         nn.Conv2d(1, 3, 1),\n",
    "#         nn.AdaptiveAvgPool2d(4),\n",
    "#         nn.Flatten(),                     \n",
    "#         nn.Linear(3*16, 10), \n",
    "#         )\n",
    "#   def forward(self, x):\n",
    "#     for layer in self.net:\n",
    "#         x = layer(x)\n",
    "#         print(x.size())\n",
    "#     return x\n",
    "\n",
    "# model = Model()\n",
    "# x = torch.randn(64, 1, 28, 28)\n",
    "\n",
    "# # Let's print it\n",
    "# model(x)"
   ]
  },
  {
   "cell_type": "markdown",
   "metadata": {},
   "source": [
    "<a id = 'NODE'></a>\n",
    "## Vanilla Neural ODE"
   ]
  },
  {
   "cell_type": "markdown",
   "metadata": {},
   "source": [
    "+ **vector field $f_\\theta$**:  3–layer depth–invariant CNNs,with each layer followed by an instance normalization layer"
   ]
  },
  {
   "cell_type": "code",
   "execution_count": 6,
   "metadata": {},
   "outputs": [],
   "source": [
    "dim = 42\n",
    "num_c = 1\n",
    "vfunc = nn.Sequential(\n",
    "        nn.Conv2d(1, dim, 3, padding=1, bias=False),\n",
    "        nn.Softplus(),                  \n",
    "        nn.Conv2d(dim, dim, 3, padding=1, bias=False),\n",
    "        nn.Softplus(), \n",
    "        nn.GroupNorm(dim, dim),\n",
    "        nn.Conv2d(dim, 1, 1),\n",
    "    ).to(device)"
   ]
  },
  {
   "cell_type": "code",
   "execution_count": 7,
   "metadata": {},
   "outputs": [
    {
     "name": "stdout",
     "output_type": "stream",
     "text": [
      "Your vector field callable (nn.Module) should have both time `t` and state `x` as arguments, we've wrapped it for you.\n"
     ]
    }
   ],
   "source": [
    "nde = NeuralODE(vfunc, \n",
    "               solver='dopri5',\n",
    "               sensitivity='adjoint',\n",
    "               atol=1e-4,\n",
    "               rtol=1e-4\n",
    "               ).to(device)\n",
    "# NOTE: the first noop `Augmenters` is used only to keep the `nde` at index `2`. Used to extract NFEs in Learner.\n",
    "model = nn.Sequential(Augmenter(1, 0), # does nothing\n",
    "                      Augmenter(1, 0), # does nothing\n",
    "                      nde,\n",
    "                      nn.Conv2d(1, 3, 1),\n",
    "                      nn.AdaptiveAvgPool2d(4),\n",
    "                      nn.Flatten(),                     \n",
    "                      nn.Linear(3*16, 10)).to(device)"
   ]
  },
  {
   "cell_type": "code",
   "execution_count": 8,
   "metadata": {},
   "outputs": [
    {
     "name": "stderr",
     "output_type": "stream",
     "text": [
      "GPU available: True, used: True\n",
      "TPU available: False, using: 0 TPU cores\n",
      "IPU available: False, using: 0 IPUs\n",
      "HPU available: False, using: 0 HPUs\n",
      "LOCAL_RANK: 0 - CUDA_VISIBLE_DEVICES: [0]\n",
      "\n",
      "  | Name     | Type             | Params\n",
      "----------------------------------------------\n",
      "0 | model    | Sequential       | 16.9 K\n",
      "1 | loss     | CrossEntropyLoss | 0     \n",
      "2 | accuarcy | Accuracy         | 0     \n",
      "----------------------------------------------\n",
      "16.9 K    Trainable params\n",
      "0         Non-trainable params\n",
      "16.9 K    Total params\n",
      "0.068     Total estimated model params size (MB)\n"
     ]
    },
    {
     "data": {
      "application/vnd.jupyter.widget-view+json": {
       "model_id": "a1d0d1def2624ab0987f4110d359f849",
       "version_major": 2,
       "version_minor": 0
      },
      "text/plain": [
       "Training: 0it [00:00, ?it/s]"
      ]
     },
     "metadata": {},
     "output_type": "display_data"
    },
    {
     "name": "stderr",
     "output_type": "stream",
     "text": [
      "C:\\Users\\m1052\\miniconda3\\envs\\torchenv\\lib\\site-packages\\pytorch_lightning\\trainer\\connectors\\logger_connector\\result.py:229: UserWarning: You called `self.log('epoch', ...)` in your `training_step` but the value needs to be floating point. Converting it to torch.float32.\n",
      "  warning_cache.warn(\n"
     ]
    }
   ],
   "source": [
    "learn = Learner(model, trainloader, testloader, device)\n",
    "cb1 = MetricTracker()\n",
    "logger = TensorBoardLogger(save_dir='lightning_logs/MNIST/', name = 'model1')\n",
    "trainer = pl.Trainer(max_epochs=epoch,\n",
    "                     accelerator=accelerator,\n",
    "                     fast_dev_run=dry_run,\n",
    "                     gpus=torch.cuda.device_count(),\n",
    "                     logger = logger,\n",
    "                     callbacks = [cb1]\n",
    "                     )\n",
    "trainer.fit(learn)"
   ]
  },
  {
   "cell_type": "code",
   "execution_count": 9,
   "metadata": {},
   "outputs": [
    {
     "name": "stderr",
     "output_type": "stream",
     "text": [
      "LOCAL_RANK: 0 - CUDA_VISIBLE_DEVICES: [0]\n"
     ]
    },
    {
     "data": {
      "application/vnd.jupyter.widget-view+json": {
       "model_id": "b99ed9ced99a404581199870bfeb06c7",
       "version_major": 2,
       "version_minor": 0
      },
      "text/plain": [
       "Testing: 0it [00:00, ?it/s]"
      ]
     },
     "metadata": {},
     "output_type": "display_data"
    },
    {
     "name": "stdout",
     "output_type": "stream",
     "text": [
      "────────────────────────────────────────────────────────────────────────────────────────────────────────────────────────\n",
      "       Test metric             DataLoader 0\n",
      "────────────────────────────────────────────────────────────────────────────────────────────────────────────────────────\n",
      "      test_accuracy         0.9747999906539917\n",
      "        test_loss           0.08173473924398422\n",
      "────────────────────────────────────────────────────────────────────────────────────────────────────────────────────────\n"
     ]
    },
    {
     "data": {
      "text/plain": [
       "[{'test_loss': 0.08173473924398422, 'test_accuracy': 0.9747999906539917}]"
      ]
     },
     "execution_count": 9,
     "metadata": {},
     "output_type": "execute_result"
    }
   ],
   "source": [
    "trainer.test(learn)"
   ]
  },
  {
   "cell_type": "code",
   "execution_count": 10,
   "metadata": {},
   "outputs": [
    {
     "data": {
      "text/plain": [
       "[{'epoch': tensor(19., device='cuda:0'),\n",
       "  'train_loss': tensor(0.0129, device='cuda:0'),\n",
       "  'accuracy': tensor(1., device='cuda:0'),\n",
       "  'NFE': tensor(200., device='cuda:0')},\n",
       " {'test_loss': tensor(0.0817, device='cuda:0'),\n",
       "  'test_accuracy': tensor(0.9748, device='cuda:0')}]"
      ]
     },
     "execution_count": 10,
     "metadata": {},
     "output_type": "execute_result"
    }
   ],
   "source": [
    "file = './lightning_logs/MNIST/model1/logs.pt'\n",
    "torch.save(cb1.collection, file)\n",
    "t = torch.load(file)\n",
    "t[-2:]"
   ]
  },
  {
   "cell_type": "markdown",
   "metadata": {},
   "source": [
    "<a id = 'ANODE'></a>\n",
    "## Aug. Neural ODE"
   ]
  },
  {
   "cell_type": "code",
   "execution_count": 11,
   "metadata": {},
   "outputs": [],
   "source": [
    "dim = 32\n",
    "dim_half = 16\n",
    "func = nn.Sequential(\n",
    "        nn.GroupNorm(dim, dim),\n",
    "        nn.Conv2d(dim , dim, 3, padding=1, bias=False),\n",
    "        nn.Softplus(),\n",
    "        nn.Conv2d(dim , dim, 3, padding=1, bias=False),\n",
    "        nn.Softplus(),\n",
    "        nn.GroupNorm(dim, dim),\n",
    "        nn.Conv2d(dim , dim, 1),                     \n",
    "    ).to(device)"
   ]
  },
  {
   "cell_type": "code",
   "execution_count": 12,
   "metadata": {},
   "outputs": [
    {
     "name": "stdout",
     "output_type": "stream",
     "text": [
      "Your vector field callable (nn.Module) should have both time `t` and state `x` as arguments, we've wrapped it for you.\n"
     ]
    }
   ],
   "source": [
    "nde = NeuralODE(func, \n",
    "               solver='dopri5',\n",
    "               sensitivity='adjoint',\n",
    "               atol=1e-4,\n",
    "               rtol=1e-4,\n",
    "               ).to(device)\n",
    "\n",
    "# NOTE: the first noop `Augmenter` is used only to keep the `nde` at index `2`. Used to extract NFEs in Learner.\n",
    "model = nn.Sequential(Augmenter(1, 0), # does nothing\n",
    "                      Augmenter(1, 31),\n",
    "                      nde,\n",
    "                      nn.Conv2d(dim, 6, 1),\n",
    "                      nn.AdaptiveAvgPool2d(4),\n",
    "                      nn.Flatten(),                     \n",
    "                      nn.Linear(6*16, 10)).to(device)"
   ]
  },
  {
   "cell_type": "code",
   "execution_count": null,
   "metadata": {},
   "outputs": [
    {
     "name": "stderr",
     "output_type": "stream",
     "text": [
      "GPU available: True, used: True\n",
      "TPU available: False, using: 0 TPU cores\n",
      "IPU available: False, using: 0 IPUs\n",
      "HPU available: False, using: 0 HPUs\n",
      "LOCAL_RANK: 0 - CUDA_VISIBLE_DEVICES: [0]\n",
      "\n",
      "  | Name     | Type             | Params\n",
      "----------------------------------------------\n",
      "0 | model    | Sequential       | 20.8 K\n",
      "1 | loss     | CrossEntropyLoss | 0     \n",
      "2 | accuarcy | Accuracy         | 0     \n",
      "----------------------------------------------\n",
      "20.8 K    Trainable params\n",
      "0         Non-trainable params\n",
      "20.8 K    Total params\n",
      "0.083     Total estimated model params size (MB)\n"
     ]
    },
    {
     "data": {
      "application/vnd.jupyter.widget-view+json": {
       "model_id": "856b99b418db4a9e9152b73cca367cc8",
       "version_major": 2,
       "version_minor": 0
      },
      "text/plain": [
       "Training: 0it [00:00, ?it/s]"
      ]
     },
     "metadata": {},
     "output_type": "display_data"
    }
   ],
   "source": [
    "learn = Learner(model, trainloader, testloader, device)\n",
    "cb2 = MetricTracker()\n",
    "logger = TensorBoardLogger(save_dir='lightning_logs/MNIST/', name = 'model2')\n",
    "trainer = pl.Trainer(max_epochs=epoch,\n",
    "                     accelerator=accelerator,\n",
    "                     fast_dev_run=dry_run,\n",
    "                     gpus=torch.cuda.device_count(),\n",
    "                     logger = logger,\n",
    "                     callbacks = [cb2]\n",
    "                     )\n",
    "trainer.fit(learn)"
   ]
  },
  {
   "cell_type": "code",
   "execution_count": null,
   "metadata": {},
   "outputs": [],
   "source": [
    "trainer.test(learn)"
   ]
  },
  {
   "cell_type": "code",
   "execution_count": null,
   "metadata": {},
   "outputs": [],
   "source": [
    "file = './lightning_logs/MNIST/model2/logs.pt'\n",
    "torch.save(cb2.collection, file)\n",
    "t = torch.load(file)\n",
    "t[-2:]"
   ]
  },
  {
   "cell_type": "markdown",
   "metadata": {},
   "source": [
    "<a id = 'ILNODE'></a>\n",
    "## Input-Layer Neural ODE"
   ]
  },
  {
   "cell_type": "code",
   "execution_count": null,
   "metadata": {},
   "outputs": [],
   "source": [
    "nde = NeuralODE(func, \n",
    "               solver='dopri5',\n",
    "               sensitivity='adjoint',\n",
    "               atol=1e-4,\n",
    "               rtol=1e-4,\n",
    "               ).to(device)\n",
    "\n",
    "# NOTE: the first noop `Augmenters` is used only to keep the `nde` at index `2`. Used to extract NFEs in Learner.\n",
    "model = nn.Sequential(Augmenter(1, 0),\n",
    "                      nn.Conv2d(1, dim, 3, padding=1, bias=False),\n",
    "                      nde,\n",
    "                      nn.Conv2d(dim, 6, 1),\n",
    "                      nn.AdaptiveAvgPool2d(4),\n",
    "                      nn.Flatten(),                     \n",
    "                      nn.Linear(6*16, 10)).to(device)"
   ]
  },
  {
   "cell_type": "code",
   "execution_count": null,
   "metadata": {},
   "outputs": [],
   "source": [
    "learn = Learner(model, trainloader, testloader, device)\n",
    "cb3 = MetricTracker()\n",
    "logger = TensorBoardLogger(save_dir='lightning_logs/MNIST/', name = 'model3')\n",
    "trainer = pl.Trainer(max_epochs=epoch,\n",
    "                     accelerator=accelerator,\n",
    "                     fast_dev_run=dry_run,\n",
    "                     gpus=torch.cuda.device_count(),\n",
    "                     logger = logger,\n",
    "                     callbacks = [cb3]\n",
    "                     )\n",
    "trainer.fit(learn)"
   ]
  },
  {
   "cell_type": "code",
   "execution_count": null,
   "metadata": {},
   "outputs": [],
   "source": [
    "trainer.test(learn)"
   ]
  },
  {
   "cell_type": "code",
   "execution_count": null,
   "metadata": {},
   "outputs": [],
   "source": [
    "file = './lightning_logs/MNIST/model3/logs.pt'\n",
    "torch.save(cb3.collection, file)\n",
    "t = torch.load(file)\n",
    "t[-2:]"
   ]
  }
 ],
 "metadata": {
  "interpreter": {
   "hash": "10e027bed3982100a2896bc2354dc7363cb258f4ff26393aad96ee00dd81e201"
  },
  "kernelspec": {
   "display_name": "Python 3 (ipykernel)",
   "language": "python",
   "name": "python3"
  },
  "language_info": {
   "codemirror_mode": {
    "name": "ipython",
    "version": 3
   },
   "file_extension": ".py",
   "mimetype": "text/x-python",
   "name": "python",
   "nbconvert_exporter": "python",
   "pygments_lexer": "ipython3",
   "version": "3.10.4"
  }
 },
 "nbformat": 4,
 "nbformat_minor": 4
}
