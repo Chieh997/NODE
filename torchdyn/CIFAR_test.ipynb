{
 "cells": [
  {
   "cell_type": "markdown",
   "metadata": {},
   "source": [
    "# Image Classification: CIFAR\n",
    "\n",
    "Models:\n",
    "+ [Vanilla NODE](#NODE)\n",
    "+ [Aug.NODE](#ANODE)\n",
    "+ [Input-Layer](#ILNODE)\n",
    "+ [2nd-Ordered](#2NODE)"
   ]
  },
  {
   "cell_type": "code",
   "execution_count": 1,
   "metadata": {},
   "outputs": [],
   "source": [
    "from torchdyn.models import *; from torchdyn import *\n",
    "from torchdyn.nn import DataControl, DepthCat, Augmenter, GalConv2d, Fourier\n",
    "\n",
    "import torch\n",
    "import torch.nn as nn\n",
    "\n",
    "import pytorch_lightning as pl\n",
    "from pytorch_lightning.loggers import TensorBoardLogger\n",
    "# from pytorch_lightning.callbacks import Callback, ModelCheckpoint\n",
    "from pytorch_lightning.utilities.model_summary import ModelSummary\n",
    "\n",
    "from utils import CIFARLearner, get_cifar_dloaders, MetricTracker\n"
   ]
  },
  {
   "cell_type": "markdown",
   "metadata": {},
   "source": [
    "## Initialization"
   ]
  },
  {
   "cell_type": "code",
   "execution_count": 2,
   "metadata": {},
   "outputs": [],
   "source": [
    "# quick run for automated notebook validation\n",
    "dry_run = False"
   ]
  },
  {
   "cell_type": "code",
   "execution_count": 3,
   "metadata": {},
   "outputs": [
    {
     "name": "stdout",
     "output_type": "stream",
     "text": [
      "GPU State: cpu\n"
     ]
    }
   ],
   "source": [
    "device = torch.device(\"cuda:0\" if torch.cuda.is_available() else \"cpu\")\n",
    "accelerator = 'gpu' if torch.cuda.is_available() else 'cpu'\n",
    "print('GPU State:', device)"
   ]
  },
  {
   "cell_type": "markdown",
   "metadata": {},
   "source": [
    "## Data Loading"
   ]
  },
  {
   "cell_type": "code",
   "execution_count": 4,
   "metadata": {},
   "outputs": [],
   "source": [
    "epoch = 20\n",
    "path_to_data='./data/cifar10_data'\n",
    "\n",
    "trainloader, testloader = get_cifar_dloaders(batch_size=64, size=32, path=path_to_data, download=False, num_workers=8)"
   ]
  },
  {
   "cell_type": "markdown",
   "metadata": {},
   "source": [
    "<a id = 'NODE'></a>\n",
    "## Vanilla Neural ODE"
   ]
  },
  {
   "cell_type": "markdown",
   "metadata": {},
   "source": [
    "+ **vector field $f_\\theta$**:  3–layer depth–invariant CNNs,with each layer followed by an instance normalization layer"
   ]
  },
  {
   "cell_type": "code",
   "execution_count": 5,
   "metadata": {},
   "outputs": [],
   "source": [
    "dim = 62\n",
    "vfunc = nn.Sequential(\n",
    "    nn.GroupNorm(3, 3),\n",
    "    nn.Conv2d(3, dim, 3, padding=1, bias=False),\n",
    "    nn.Softplus(),                   \n",
    "    nn.Conv2d(dim, dim, 3, padding=1, bias=False),\n",
    "    nn.Softplus(), \n",
    "    nn.GroupNorm(dim, dim),\n",
    "    nn.Conv2d(dim, 3, 1)\n",
    "    ).to(device)"
   ]
  },
  {
   "cell_type": "code",
   "execution_count": 6,
   "metadata": {},
   "outputs": [
    {
     "name": "stdout",
     "output_type": "stream",
     "text": [
      "Your vector field callable (nn.Module) should have both time `t` and state `x` as arguments, we've wrapped it for you.\n"
     ]
    }
   ],
   "source": [
    "nde = NeuralODE(vfunc, \n",
    "               solver='dopri5',\n",
    "               sensitivity='adjoint',\n",
    "               atol=1e-4,\n",
    "               rtol=1e-4\n",
    "               ).to(device)\n",
    "# NOTE: the first noop `Augmenters` is used only to keep the `nde` at index `2`. Used to extract NFEs in CIFARLearner.\n",
    "model = nn.Sequential(Augmenter(1, 0), # does nothing\n",
    "                      Augmenter(1, 0), # does nothing\n",
    "                      nde,\n",
    "                      nn.Conv2d(3, 3, 1),\n",
    "                      nn.AdaptiveAvgPool2d(4),\n",
    "                      nn.Flatten(),                     \n",
    "                      nn.Linear(3*16, 10)).to(device)"
   ]
  },
  {
   "cell_type": "code",
   "execution_count": 7,
   "metadata": {},
   "outputs": [
    {
     "name": "stderr",
     "output_type": "stream",
     "text": [
      "GPU available: False, used: False\n",
      "TPU available: False, using: 0 TPU cores\n",
      "IPU available: False, using: 0 IPUs\n",
      "HPU available: False, using: 0 HPUs\n",
      "\n",
      "  | Name  | Type       | Params\n",
      "-------------------------------------\n",
      "0 | model | Sequential | 37.1 K\n",
      "-------------------------------------\n",
      "37.1 K    Trainable params\n",
      "0         Non-trainable params\n",
      "37.1 K    Total params\n",
      "0.148     Total estimated model params size (MB)\n"
     ]
    },
    {
     "data": {
      "application/vnd.jupyter.widget-view+json": {
       "model_id": "8c0247ae70f343c289e2260f100a2117",
       "version_major": 2,
       "version_minor": 0
      },
      "text/plain": [
       "Training: 0it [00:00, ?it/s]"
      ]
     },
     "metadata": {},
     "output_type": "display_data"
    },
    {
     "name": "stderr",
     "output_type": "stream",
     "text": [
      "c:\\Users\\chouc\\miniconda3\\envs\\torchenv\\lib\\site-packages\\pytorch_lightning\\trainer\\connectors\\logger_connector\\result.py:229: UserWarning: You called `self.log('epoch', ...)` in your `training_step` but the value needs to be floating point. Converting it to torch.float32.\n",
      "  warning_cache.warn(\n",
      "c:\\Users\\chouc\\miniconda3\\envs\\torchenv\\lib\\site-packages\\pytorch_lightning\\trainer\\trainer.py:724: UserWarning: Detected KeyboardInterrupt, attempting graceful shutdown...\n",
      "  rank_zero_warn(\"Detected KeyboardInterrupt, attempting graceful shutdown...\")\n"
     ]
    }
   ],
   "source": [
    "learn = CIFARLearner(model, trainloader, testloader)\n",
    "cb1 = MetricTracker()\n",
    "logger = TensorBoardLogger(save_dir='lightning_logs/CIFAR/', name = 'model1')\n",
    "trainer = pl.Trainer(max_epochs=epoch,\n",
    "                     accelerator=accelerator,\n",
    "                     fast_dev_run=dry_run,\n",
    "                     gpus=torch.cuda.device_count(),\n",
    "                     logger = logger,\n",
    "                     callbacks = [cb1]\n",
    "                     )\n",
    "trainer.fit(learn)"
   ]
  },
  {
   "cell_type": "code",
   "execution_count": 17,
   "metadata": {},
   "outputs": [
    {
     "data": {
      "application/vnd.jupyter.widget-view+json": {
       "model_id": "ca73cab799fc4edb98917b92866ec677",
       "version_major": 2,
       "version_minor": 0
      },
      "text/plain": [
       "Testing: 0it [00:00, ?it/s]"
      ]
     },
     "metadata": {},
     "output_type": "display_data"
    },
    {
     "name": "stdout",
     "output_type": "stream",
     "text": [
      "────────────────────────────────────────────────────────────────────────────────────────────────────────────────────────\n",
      "       Test metric             DataLoader 0\n",
      "────────────────────────────────────────────────────────────────────────────────────────────────────────────────────────\n",
      "      test_accuracy         0.43220001459121704\n",
      "        test_loss            1.590834140777588\n",
      "────────────────────────────────────────────────────────────────────────────────────────────────────────────────────────\n"
     ]
    },
    {
     "data": {
      "text/plain": [
       "[{'test_loss': 1.590834140777588, 'test_accuracy': 0.43220001459121704}]"
      ]
     },
     "execution_count": 17,
     "metadata": {},
     "output_type": "execute_result"
    }
   ],
   "source": [
    "trainer.test(learn)"
   ]
  },
  {
   "cell_type": "code",
   "execution_count": 18,
   "metadata": {},
   "outputs": [
    {
     "data": {
      "text/plain": [
       "[{'epoch': tensor(0.),\n",
       "  'train_loss': tensor(1.8231),\n",
       "  'accuracy': tensor(0.3533),\n",
       "  'NFE': tensor(71.2717)},\n",
       " {'test_loss': tensor(1.5908), 'test_accuracy': tensor(0.4322)}]"
      ]
     },
     "execution_count": 18,
     "metadata": {},
     "output_type": "execute_result"
    }
   ],
   "source": [
    "file = 'logs.pt'\n",
    "torch.save(cb1.collection, file)\n",
    "torch.load(file)"
   ]
  },
  {
   "cell_type": "markdown",
   "metadata": {},
   "source": [
    "<a id = 'ANODE'></a>\n",
    "## Aug. Neural ODE"
   ]
  },
  {
   "cell_type": "code",
   "execution_count": null,
   "metadata": {},
   "outputs": [],
   "source": [
    "dim = 42\n",
    "dim_half = 21\n",
    "func = nn.Sequential(nn.GroupNorm(dim, dim),\n",
    "                     nn.Conv2d(dim, dim, 3, padding=1, bias=False),\n",
    "                     nn.Softplus(),                   \n",
    "                     nn.Conv2d(dim, dim, 3, padding=1, bias=False),\n",
    "                     nn.Softplus(), \n",
    "                     nn.GroupNorm(dim, dim),\n",
    "                     nn.Conv2d(dim, dim, 1)\n",
    "                     ).to(device)"
   ]
  },
  {
   "cell_type": "code",
   "execution_count": null,
   "metadata": {},
   "outputs": [],
   "source": [
    "nde = NeuralODE(func, \n",
    "               solver='dopri5',\n",
    "               sensitivity='adjoint',\n",
    "               atol=1e-4,\n",
    "               rtol=1e-4,\n",
    "               ).to(device)\n",
    "\n",
    "# NOTE: the first noop `Augmenter` is used only to keep the `nde` at index `2`. Used to extract NFEs in CIFARLearner.\n",
    "model = nn.Sequential(Augmenter(1, 0), # does nothing\n",
    "                      Augmenter(1, 39),\n",
    "                      nde,\n",
    "                      nn.Conv2d(dim, 6, 1),\n",
    "                      nn.AdaptiveAvgPool2d(4),\n",
    "                      nn.Flatten(),                     \n",
    "                      nn.Linear(6*16, 10)).to(device)"
   ]
  },
  {
   "cell_type": "code",
   "execution_count": null,
   "metadata": {},
   "outputs": [],
   "source": [
    "learn = CIFARLearner(model, trainloader, testloader)\n",
    "cb2 = MetricTracker()\n",
    "logger = TensorBoardLogger(save_dir='lightning_logs/CIFAR/', name = 'model2')\n",
    "trainer = pl.Trainer(max_epochs=epoch,\n",
    "                     accelerator=accelerator,\n",
    "                     fast_dev_run=dry_run,\n",
    "                     gpus=torch.cuda.device_count(),\n",
    "                     logger = logger,\n",
    "                     callbacks = [cb2]\n",
    "                     )\n",
    "trainer.fit(learn)"
   ]
  },
  {
   "cell_type": "code",
   "execution_count": null,
   "metadata": {},
   "outputs": [],
   "source": [
    "trainer.test(learn)"
   ]
  },
  {
   "cell_type": "code",
   "execution_count": null,
   "metadata": {},
   "outputs": [],
   "source": [
    "print(cb2.collection[-2:])\n",
    "print(ModelSummary(learn).param_nums)"
   ]
  },
  {
   "cell_type": "markdown",
   "metadata": {},
   "source": [
    "<a id = 'ILNODE'></a>\n",
    "## Input-Layer Neural ODE"
   ]
  },
  {
   "cell_type": "code",
   "execution_count": null,
   "metadata": {},
   "outputs": [],
   "source": [
    "nde = NeuralODE(func, \n",
    "               solver='dopri5',\n",
    "               sensitivity='adjoint',\n",
    "               atol=1e-4,\n",
    "               rtol=1e-4,\n",
    "               ).to(device)\n",
    "\n",
    "# NOTE: the first noop `Augmenters` is used only to keep the `nde` at index `2`. Used to extract NFEs in CIFARLearner.\n",
    "model = nn.Sequential(Augmenter(1, 0),\n",
    "                      nn.Conv2d(3, dim, 3, padding=1, bias=False),\n",
    "                      nde,\n",
    "                      nn.Conv2d(dim, 6, 1),\n",
    "                      nn.AdaptiveAvgPool2d(4),\n",
    "                      nn.Flatten(),                     \n",
    "                      nn.Linear(6*16, 10)).to(device)"
   ]
  },
  {
   "cell_type": "code",
   "execution_count": null,
   "metadata": {},
   "outputs": [],
   "source": [
    "learn = CIFARLearner(model, trainloader, testloader)\n",
    "cb3 = MetricTracker()\n",
    "logger = TensorBoardLogger(save_dir='lightning_logs/CIFAR/', name = 'model3')\n",
    "trainer = pl.Trainer(max_epochs=epoch,\n",
    "                     accelerator=accelerator,\n",
    "                     fast_dev_run=dry_run,\n",
    "                     gpus=torch.cuda.device_count(),\n",
    "                     logger = logger,\n",
    "                     callbacks = [cb3]\n",
    "                     )\n",
    "trainer.fit(learn)"
   ]
  },
  {
   "cell_type": "code",
   "execution_count": null,
   "metadata": {},
   "outputs": [],
   "source": [
    "trainer.test(learn)"
   ]
  },
  {
   "cell_type": "code",
   "execution_count": null,
   "metadata": {},
   "outputs": [],
   "source": [
    "print(cb3.collection[-2:])\n",
    "print(ModelSummary(learn).param_nums)"
   ]
  },
  {
   "cell_type": "markdown",
   "metadata": {},
   "source": [
    "<a id = '2NODE'></a>\n",
    "## 2nd-Ordered Neural ODE"
   ]
  },
  {
   "cell_type": "code",
   "execution_count": null,
   "metadata": {},
   "outputs": [],
   "source": [
    "\n",
    "nde = NeuralODE(func, \n",
    "               solver='dopri5',\n",
    "               sensitivity='adjoint',\n",
    "               atol=1e-4,\n",
    "               rtol=1e-4,\n",
    "               order=2,\n",
    "               ).to(device)\n",
    "\n",
    "model = nn.Sequential(nn.Conv2d(3, dim_half, 3, padding=1, bias=False),\n",
    "                      Augmenter(1, dim_half),\n",
    "                      nde,\n",
    "                      nn.Conv2d(dim, 6, 1),\n",
    "                      nn.AdaptiveAvgPool2d(4),\n",
    "                      nn.Flatten(),                     \n",
    "                      nn.Linear(6*16, 10)).to(device)"
   ]
  },
  {
   "cell_type": "code",
   "execution_count": null,
   "metadata": {},
   "outputs": [],
   "source": [
    "learn = CIFARLearner(model, trainloader, testloader)\n",
    "cb4 = MetricTracker()\n",
    "logger = TensorBoardLogger(save_dir='lightning_logs/CIFAR/', name = 'model4')\n",
    "trainer = pl.Trainer(max_epochs=epoch,\n",
    "                     accelerator=accelerator,\n",
    "                     fast_dev_run=dry_run,\n",
    "                     gpus=torch.cuda.device_count(),\n",
    "                     logger = logger,\n",
    "                     callbacks = [cb4]\n",
    "                     )\n",
    "trainer.fit(learn)"
   ]
  },
  {
   "cell_type": "code",
   "execution_count": null,
   "metadata": {},
   "outputs": [],
   "source": [
    "trainer.test(learn)"
   ]
  },
  {
   "cell_type": "code",
   "execution_count": null,
   "metadata": {},
   "outputs": [],
   "source": [
    "print(cb4.collection[-2:])\n",
    "print(ModelSummary(learn).param_nums)"
   ]
  }
 ],
 "metadata": {
  "interpreter": {
   "hash": "10e027bed3982100a2896bc2354dc7363cb258f4ff26393aad96ee00dd81e201"
  },
  "kernelspec": {
   "display_name": "Python 3.10.4 ('torchenv')",
   "language": "python",
   "name": "python3"
  },
  "language_info": {
   "codemirror_mode": {
    "name": "ipython",
    "version": 3
   },
   "file_extension": ".py",
   "mimetype": "text/x-python",
   "name": "python",
   "nbconvert_exporter": "python",
   "pygments_lexer": "ipython3",
   "version": "3.10.4"
  },
  "orig_nbformat": 4
 },
 "nbformat": 4,
 "nbformat_minor": 2
}
